{
 "cells": [
  {
   "cell_type": "code",
   "execution_count": 69,
   "id": "69367a29-3a21-4af2-8d8e-38f7975b500a",
   "metadata": {},
   "outputs": [
    {
     "data": {
      "text/html": [
       "\n",
       "<h1 style = \"background-color: black;\n",
       "color:orange; font-size: 30px;\n",
       "border-radius: 20px;\n",
       "padding: 16px;\n",
       "text-align: center;\">\n",
       "\n",
       "<b style = \"color: red;\n",
       "\">Kaggle - Netflix Dataset Analysis</b></h1>\n"
      ],
      "text/plain": [
       "<IPython.core.display.HTML object>"
      ]
     },
     "metadata": {},
     "output_type": "display_data"
    }
   ],
   "source": [
    "from IPython.display import HTML, display\n",
    "\n",
    "html_code = '''\n",
    "<h1 style = \"background-color: black;\n",
    "color:orange; font-size: 30px;\n",
    "border-radius: 20px;\n",
    "padding: 16px;\n",
    "text-align: center;\">\n",
    "\n",
    "<b style = \"color: red;\n",
    "\">Kaggle - Netflix Dataset Analysis</b></h1>\n",
    "'''\n",
    "\n",
    "display(HTML(html_code))"
   ]
  },
  {
   "cell_type": "code",
   "execution_count": 71,
   "id": "2c10b84f-ee55-4cb7-98c0-30b073653b9a",
   "metadata": {},
   "outputs": [
    {
     "data": {
      "text/html": [
       "\n",
       "<h1 style = \"background-color: black;\n",
       "color:white; font-size: 30px;\n",
       "border-radius: 20px;\n",
       "padding: 16px;\n",
       "text-align: center;\">\n",
       "\n",
       " \n",
       "<span style = \"color: red;\">Importing the Required Libraries</span>\n",
       "</h1>\n"
      ],
      "text/plain": [
       "<IPython.core.display.HTML object>"
      ]
     },
     "metadata": {},
     "output_type": "display_data"
    }
   ],
   "source": [
    "from IPython.display import HTML, display\n",
    "\n",
    "html_code = '''\n",
    "<h1 style = \"background-color: black;\n",
    "color:white; font-size: 30px;\n",
    "border-radius: 20px;\n",
    "padding: 16px;\n",
    "text-align: center;\">\n",
    "\n",
    " \n",
    "<span style = \"color: red;\">Importing the Required Libraries</span>\n",
    "</h1>\n",
    "'''\n",
    "\n",
    "display(HTML(html_code))"
   ]
  },
  {
   "cell_type": "code",
   "execution_count": 44,
   "id": "83ce5a44-4d66-40d3-bc10-f1845bb871b2",
   "metadata": {},
   "outputs": [],
   "source": [
    "import pandas as pd\n",
    "import matplotlib.pyplot as plt\n",
    "import seaborn as sns\n",
    "from collections import Counter\n",
    "import warnings\n",
    "warnings.filterwarnings('ignore')"
   ]
  },
  {
   "cell_type": "code",
   "execution_count": 72,
   "id": "a950a00b-31bc-4d98-aafa-a3b0ae200f70",
   "metadata": {},
   "outputs": [
    {
     "data": {
      "text/html": [
       "\n",
       "<h1 style = \"background-color: black;\n",
       "color:white; font-size: 30px;\n",
       "border-radius: 20px;\n",
       "padding: 16px;\n",
       "text-align: center;\">\n",
       "\n",
       " \n",
       "<span style = \"color: red;\">Loading the Dataset</span>\n",
       "</h1>\n"
      ],
      "text/plain": [
       "<IPython.core.display.HTML object>"
      ]
     },
     "metadata": {},
     "output_type": "display_data"
    }
   ],
   "source": [
    "from IPython.display import HTML, display\n",
    "\n",
    "html_code = '''\n",
    "<h1 style = \"background-color: black;\n",
    "color:white; font-size: 30px;\n",
    "border-radius: 20px;\n",
    "padding: 16px;\n",
    "text-align: center;\">\n",
    "\n",
    " \n",
    "<span style = \"color: red;\">Loading the Dataset</span>\n",
    "</h1>\n",
    "'''\n",
    "\n",
    "display(HTML(html_code))"
   ]
  },
  {
   "cell_type": "code",
   "execution_count": 45,
   "id": "02b4602d-c948-4d88-91b1-dbd3c136a4e1",
   "metadata": {},
   "outputs": [],
   "source": [
    "df = pd.read_csv(r\"C:\\Users\\DELL\\OneDrive\\Documents\\netflix_titles_1.csv\")"
   ]
  },
  {
   "cell_type": "code",
   "execution_count": 73,
   "id": "beb37e37-c612-4e29-9753-c5f1a359a8b5",
   "metadata": {},
   "outputs": [
    {
     "data": {
      "text/html": [
       "\n",
       "<h1 style = \"background-color: black;\n",
       "color:white; font-size: 30px;\n",
       "border-radius: 20px;\n",
       "padding: 16px;\n",
       "text-align: center;\">\n",
       "\n",
       " \n",
       "<span style = \"color: red;\">Inspecting the Dataset</span>\n",
       "</h1>\n"
      ],
      "text/plain": [
       "<IPython.core.display.HTML object>"
      ]
     },
     "metadata": {},
     "output_type": "display_data"
    }
   ],
   "source": [
    "from IPython.display import HTML, display\n",
    "\n",
    "html_code = '''\n",
    "<h1 style = \"background-color: black;\n",
    "color:white; font-size: 30px;\n",
    "border-radius: 20px;\n",
    "padding: 16px;\n",
    "text-align: center;\">\n",
    "\n",
    " \n",
    "<span style = \"color: red;\">Inspecting the Dataset</span>\n",
    "</h1>\n",
    "'''\n",
    "\n",
    "display(HTML(html_code))"
   ]
  },
  {
   "cell_type": "code",
   "execution_count": 46,
   "id": "40fea445-b431-4a13-bc49-c02dadfc000f",
   "metadata": {},
   "outputs": [
    {
     "name": "stdout",
     "output_type": "stream",
     "text": [
      "<class 'pandas.core.frame.DataFrame'>\n",
      "RangeIndex: 8807 entries, 0 to 8806\n",
      "Data columns (total 12 columns):\n",
      " #   Column        Non-Null Count  Dtype \n",
      "---  ------        --------------  ----- \n",
      " 0   show_id       8807 non-null   object\n",
      " 1   type          8807 non-null   object\n",
      " 2   title         8807 non-null   object\n",
      " 3   director      6173 non-null   object\n",
      " 4   cast          7982 non-null   object\n",
      " 5   country       7976 non-null   object\n",
      " 6   date_added    8797 non-null   object\n",
      " 7   release_year  8807 non-null   int64 \n",
      " 8   rating        8803 non-null   object\n",
      " 9   duration      8804 non-null   object\n",
      " 10  listed_in     8807 non-null   object\n",
      " 11  description   8807 non-null   object\n",
      "dtypes: int64(1), object(11)\n",
      "memory usage: 825.8+ KB\n"
     ]
    },
    {
     "data": {
      "text/plain": [
       "(None,\n",
       "   show_id     type                  title         director  \\\n",
       " 0      s1    Movie   Dick Johnson Is Dead  Kirsten Johnson   \n",
       " 1      s2  TV Show          Blood & Water              NaN   \n",
       " 2      s3  TV Show              Ganglands  Julien Leclercq   \n",
       " 3      s4  TV Show  Jailbirds New Orleans              NaN   \n",
       " 4      s5  TV Show           Kota Factory              NaN   \n",
       " \n",
       "                                                 cast        country  \\\n",
       " 0                                                NaN  United States   \n",
       " 1  Ama Qamata, Khosi Ngema, Gail Mabalane, Thaban...   South Africa   \n",
       " 2  Sami Bouajila, Tracy Gotoas, Samuel Jouy, Nabi...            NaN   \n",
       " 3                                                NaN            NaN   \n",
       " 4  Mayur More, Jitendra Kumar, Ranjan Raj, Alam K...          India   \n",
       " \n",
       "            date_added  release_year rating   duration  \\\n",
       " 0  September 25, 2021          2020  PG-13     90 min   \n",
       " 1  September 24, 2021          2021  TV-MA  2 Seasons   \n",
       " 2  September 24, 2021          2021  TV-MA   1 Season   \n",
       " 3  September 24, 2021          2021  TV-MA   1 Season   \n",
       " 4  September 24, 2021          2021  TV-MA  2 Seasons   \n",
       " \n",
       "                                            listed_in  \\\n",
       " 0                                      Documentaries   \n",
       " 1    International TV Shows, TV Dramas, TV Mysteries   \n",
       " 2  Crime TV Shows, International TV Shows, TV Act...   \n",
       " 3                             Docuseries, Reality TV   \n",
       " 4  International TV Shows, Romantic TV Shows, TV ...   \n",
       " \n",
       "                                          description  \n",
       " 0  As her father nears the end of his life, filmm...  \n",
       " 1  After crossing paths at a party, a Cape Town t...  \n",
       " 2  To protect his family from a powerful drug lor...  \n",
       " 3  Feuds, flirtations and toilet talk go down amo...  \n",
       " 4  In a city of coaching centers known to train I...  )"
      ]
     },
     "execution_count": 46,
     "metadata": {},
     "output_type": "execute_result"
    }
   ],
   "source": [
    "df_info = df.info()\n",
    "df_head = df.head()\n",
    "\n",
    "df_info, df_head"
   ]
  },
  {
   "cell_type": "code",
   "execution_count": 131,
   "id": "e3c34ab3-90d7-4ee4-95ab-697bbcbdc54e",
   "metadata": {},
   "outputs": [
    {
     "data": {
      "text/html": [
       "\n",
       "<h1 style = \"background-color: grey; font-size: 14px;\n",
       "border-radius: 20px;\n",
       "padding: 12px;\n",
       "border: 4px solid darkgreen\n",
       "text-align: left;\">\n",
       "\n",
       "<span style = \"color:black; font-size: 16px;\n",
       "\">Step 1: Initial Data Overview:<br><br>\n",
       "</span> \n",
       "\n",
       "<span style = \"color:white; font-size: 14px;\n",
       "\"><ul>Rows: 8,807</ul>\n",
       "  <ul>Columns: 12</ul>\n",
       "  <ul>General Use: This dataset captures details about Netflix shows, including metadata like type, title, director, cast, release year, rating, and genres.</ul>\n",
       "</span>\n",
       "<br><br>\n",
       "\n",
       "<span style = \"color:black; font-size: 16px;\n",
       "\">Step 2: Check for Missing Values and Data Types:<br><br>\n",
       "</span>\n",
       "\n",
       "<div style=\"display: flex; justify-content: center; margin-top: 20px;\">\n",
       "  <table style=\"border-collapse: collapse; font-family: Arial, sans-serif; box-shadow: 0 0 10px rgba(0,0,0,0.1);\">\n",
       "    <thead style=\"background-color: #8B0000;\">\n",
       "      <tr>\n",
       "        <th style=\"color: white; padding: 12px 20px;\">Column</th>\n",
       "        <th style=\"color: white; padding: 12px 20px;\">Data Type</th>\n",
       "        <th style=\"color: white; padding: 12px 20px;\">Missing Values</th>\n",
       "      </tr>\n",
       "    </thead>\n",
       "    <tbody>\n",
       "      <tr style=\"background-color: #f2dede;\">\n",
       "        <td style=\"padding: 10px 20px;\">show_id</td>\n",
       "        <td>object</td>\n",
       "        <td>0</td>\n",
       "      </tr>\n",
       "      <tr style=\"background-color: #f9f9f9;\">\n",
       "        <td style=\"padding: 10px 20px;\">type</td>\n",
       "        <td>object</td>\n",
       "        <td>0</td>\n",
       "      </tr>\n",
       "      <tr style=\"background-color: #f2dede;\">\n",
       "        <td style=\"padding: 10px 20px;\">title</td>\n",
       "        <td>object</td>\n",
       "        <td>0</td>\n",
       "      </tr>\n",
       "      <tr style=\"background-color: #f9f9f9;\">\n",
       "        <td style=\"padding: 10px 20px;\">director</td>\n",
       "        <td>object</td>\n",
       "        <td>2634</td>\n",
       "      </tr>\n",
       "      <tr style=\"background-color: #f2dede;\">\n",
       "        <td style=\"padding: 10px 20px;\">cast</td>\n",
       "        <td>object</td>\n",
       "        <td>825</td>\n",
       "      </tr>\n",
       "      <tr style=\"background-color: #f9f9f9;\">\n",
       "        <td style=\"padding: 10px 20px;\">country</td>\n",
       "        <td>object</td>\n",
       "        <td>831</td>\n",
       "      </tr>\n",
       "      <tr style=\"background-color: #f2dede;\">\n",
       "        <td style=\"padding: 10px 20px;\">date_added</td>\n",
       "        <td>object</td>\n",
       "        <td>10</td>\n",
       "      </tr>\n",
       "      <tr style=\"background-color: #f9f9f9;\">\n",
       "        <td style=\"padding: 10px 20px;\">release_year</td>\n",
       "        <td>int64</td>\n",
       "        <td>0</td>\n",
       "      </tr>\n",
       "      <tr style=\"background-color: #f2dede;\">\n",
       "        <td style=\"padding: 10px 20px;\">rating</td>\n",
       "        <td>object</td>\n",
       "        <td>4</td>\n",
       "      </tr>\n",
       "      <tr style=\"background-color: #f9f9f9;\">\n",
       "        <td style=\"padding: 10px 20px;\">duration</td>\n",
       "        <td>object</td>\n",
       "        <td>3</td>\n",
       "      </tr>\n",
       "      <tr style=\"background-color: #f2dede;\">\n",
       "        <td style=\"padding: 10px 20px;\">listed_in</td>\n",
       "        <td>object</td>\n",
       "        <td>0</td>\n",
       "      </tr>\n",
       "      <tr style=\"background-color: #f9f9f9;\">\n",
       "        <td style=\"padding: 10px 20px;\">description</td>\n",
       "        <td>object</td>\n",
       "        <td>0</td>\n",
       "      </tr>\n",
       "    </tbody>\n",
       "  </table>\n",
       "</div>\n",
       "\n",
       "\n",
       "<span style = \"color:black; font-size: 16px;\n",
       "\">Observations:\n",
       "</span>\n",
       "<br><br>\n",
       "\n",
       "<span style = \"color:white; font-size: 14px;\n",
       "\"><ul>- Director, cast, and country have notable missing values.</ul>\n",
       "  <ul>- Date_added needs to be converted to datetime.</ul>\n",
       "  <ul>- Duration may have different units for Movies (minutes) vs. TV Shows (seasons) and should be split.</ul></span>\n",
       "<br><br>\n",
       "\n",
       "<span style = \"color:black; font-size: 16px;\n",
       "\">Step 3: Data Cleaning Plan\n",
       "</span>\n",
       "<br><br>\n",
       "\n",
       "<span style = \"color:white; font-size: 14px;\n",
       "\"><ul>- Convert date_added to datetime.</ul>\n",
       "  <ul>- Split duration into numeric value and unit.</ul>\n",
       "  <ul>- Handle missing values: Consider “Unknown” or “Not Specified” for director, cast, country.</ul>\n",
       "  <ul>- Add new features: Year and Month added from date_added and Genre categories extracted from listed_in.</ul></span>\n",
       "<br><br>\n",
       "\n",
       "<br>\n",
       "</h1>\n"
      ],
      "text/plain": [
       "<IPython.core.display.HTML object>"
      ]
     },
     "metadata": {},
     "output_type": "display_data"
    }
   ],
   "source": [
    "from IPython.display import HTML, display\n",
    "\n",
    "html_code = '''\n",
    "<h1 style = \"background-color: grey; font-size: 14px;\n",
    "border-radius: 20px;\n",
    "padding: 12px;\n",
    "border: 4px solid darkgreen\n",
    "text-align: left;\">\n",
    "\n",
    "<span style = \"color:black; font-size: 16px;\n",
    "\">Step 1: Initial Data Overview:<br><br>\n",
    "</span> \n",
    "\n",
    "<span style = \"color:white; font-size: 14px;\n",
    "\"><ul>Rows: 8,807</ul>\n",
    "  <ul>Columns: 12</ul>\n",
    "  <ul>General Use: This dataset captures details about Netflix shows, including metadata like type, title, director, cast, release year, rating, and genres.</ul>\n",
    "</span>\n",
    "<br><br>\n",
    "\n",
    "<span style = \"color:black; font-size: 16px;\n",
    "\">Step 2: Check for Missing Values and Data Types:<br><br>\n",
    "</span>\n",
    "\n",
    "<div style=\"display: flex; justify-content: center; margin-top: 20px;\">\n",
    "  <table style=\"border-collapse: collapse; font-family: Arial, sans-serif; box-shadow: 0 0 10px rgba(0,0,0,0.1);\">\n",
    "    <thead style=\"background-color: #8B0000;\">\n",
    "      <tr>\n",
    "        <th style=\"color: white; padding: 12px 20px;\">Column</th>\n",
    "        <th style=\"color: white; padding: 12px 20px;\">Data Type</th>\n",
    "        <th style=\"color: white; padding: 12px 20px;\">Missing Values</th>\n",
    "      </tr>\n",
    "    </thead>\n",
    "    <tbody>\n",
    "      <tr style=\"background-color: #f2dede;\">\n",
    "        <td style=\"padding: 10px 20px;\">show_id</td>\n",
    "        <td>object</td>\n",
    "        <td>0</td>\n",
    "      </tr>\n",
    "      <tr style=\"background-color: #f9f9f9;\">\n",
    "        <td style=\"padding: 10px 20px;\">type</td>\n",
    "        <td>object</td>\n",
    "        <td>0</td>\n",
    "      </tr>\n",
    "      <tr style=\"background-color: #f2dede;\">\n",
    "        <td style=\"padding: 10px 20px;\">title</td>\n",
    "        <td>object</td>\n",
    "        <td>0</td>\n",
    "      </tr>\n",
    "      <tr style=\"background-color: #f9f9f9;\">\n",
    "        <td style=\"padding: 10px 20px;\">director</td>\n",
    "        <td>object</td>\n",
    "        <td>2634</td>\n",
    "      </tr>\n",
    "      <tr style=\"background-color: #f2dede;\">\n",
    "        <td style=\"padding: 10px 20px;\">cast</td>\n",
    "        <td>object</td>\n",
    "        <td>825</td>\n",
    "      </tr>\n",
    "      <tr style=\"background-color: #f9f9f9;\">\n",
    "        <td style=\"padding: 10px 20px;\">country</td>\n",
    "        <td>object</td>\n",
    "        <td>831</td>\n",
    "      </tr>\n",
    "      <tr style=\"background-color: #f2dede;\">\n",
    "        <td style=\"padding: 10px 20px;\">date_added</td>\n",
    "        <td>object</td>\n",
    "        <td>10</td>\n",
    "      </tr>\n",
    "      <tr style=\"background-color: #f9f9f9;\">\n",
    "        <td style=\"padding: 10px 20px;\">release_year</td>\n",
    "        <td>int64</td>\n",
    "        <td>0</td>\n",
    "      </tr>\n",
    "      <tr style=\"background-color: #f2dede;\">\n",
    "        <td style=\"padding: 10px 20px;\">rating</td>\n",
    "        <td>object</td>\n",
    "        <td>4</td>\n",
    "      </tr>\n",
    "      <tr style=\"background-color: #f9f9f9;\">\n",
    "        <td style=\"padding: 10px 20px;\">duration</td>\n",
    "        <td>object</td>\n",
    "        <td>3</td>\n",
    "      </tr>\n",
    "      <tr style=\"background-color: #f2dede;\">\n",
    "        <td style=\"padding: 10px 20px;\">listed_in</td>\n",
    "        <td>object</td>\n",
    "        <td>0</td>\n",
    "      </tr>\n",
    "      <tr style=\"background-color: #f9f9f9;\">\n",
    "        <td style=\"padding: 10px 20px;\">description</td>\n",
    "        <td>object</td>\n",
    "        <td>0</td>\n",
    "      </tr>\n",
    "    </tbody>\n",
    "  </table>\n",
    "</div>\n",
    "\n",
    "\n",
    "<span style = \"color:black; font-size: 16px;\n",
    "\">Observations:\n",
    "</span>\n",
    "<br><br>\n",
    "\n",
    "<span style = \"color:white; font-size: 14px;\n",
    "\"><ul>- Director, cast, and country have notable missing values.</ul>\n",
    "  <ul>- Date_added needs to be converted to datetime.</ul>\n",
    "  <ul>- Duration may have different units for Movies (minutes) vs. TV Shows (seasons) and should be split.</ul></span>\n",
    "<br><br>\n",
    "\n",
    "<span style = \"color:black; font-size: 16px;\n",
    "\">Step 3: Data Cleaning Plan\n",
    "</span>\n",
    "<br><br>\n",
    "\n",
    "<span style = \"color:white; font-size: 14px;\n",
    "\"><ul>- Convert date_added to datetime.</ul>\n",
    "  <ul>- Split duration into numeric value and unit.</ul>\n",
    "  <ul>- Handle missing values: Consider “Unknown” or “Not Specified” for director, cast, country.</ul>\n",
    "  <ul>- Add new features: Year and Month added from date_added and Genre categories extracted from listed_in.</ul></span>\n",
    "<br><br>\n",
    "\n",
    "<br>\n",
    "</h1>\n",
    "'''\n",
    "\n",
    "display(HTML(html_code))"
   ]
  },
  {
   "cell_type": "code",
   "execution_count": 133,
   "id": "21dc7f27-baa5-4000-96dd-c188027de1d8",
   "metadata": {},
   "outputs": [
    {
     "data": {
      "text/html": [
       "\n",
       "<h1 style = \"background-color: black;\n",
       "color:white; font-size: 30px;\n",
       "border-radius: 20px;\n",
       "padding: 16px;\n",
       "text-align: center;\">\n",
       "\n",
       " \n",
       "<span style = \"color: red;\">Cleaning the Dataset</span>\n",
       "</h1>\n"
      ],
      "text/plain": [
       "<IPython.core.display.HTML object>"
      ]
     },
     "metadata": {},
     "output_type": "display_data"
    }
   ],
   "source": [
    "from IPython.display import HTML, display\n",
    "\n",
    "html_code = '''\n",
    "<h1 style = \"background-color: black;\n",
    "color:white; font-size: 30px;\n",
    "border-radius: 20px;\n",
    "padding: 16px;\n",
    "text-align: center;\">\n",
    "\n",
    " \n",
    "<span style = \"color: red;\">Cleaning the Dataset</span>\n",
    "</h1>\n",
    "'''\n",
    "\n",
    "display(HTML(html_code))"
   ]
  },
  {
   "cell_type": "code",
   "execution_count": 134,
   "id": "1f5b0dd7-c6f7-40fc-92a4-a351c03303fb",
   "metadata": {},
   "outputs": [
    {
     "data": {
      "text/html": [
       "\n",
       "<h1 style = \"background-color: black;\n",
       "color:white; font-size: 20px;\n",
       "border-radius: 20px;\n",
       "padding: 16px;\n",
       "text-align: left;\">\n",
       "\n",
       " \n",
       "<span style = \"color: red;\">Converting date columns to datetime</span>\n",
       "</h1>\n"
      ],
      "text/plain": [
       "<IPython.core.display.HTML object>"
      ]
     },
     "metadata": {},
     "output_type": "display_data"
    }
   ],
   "source": [
    "from IPython.display import HTML, display\n",
    "\n",
    "html_code = '''\n",
    "<h1 style = \"background-color: black;\n",
    "color:white; font-size: 20px;\n",
    "border-radius: 20px;\n",
    "padding: 16px;\n",
    "text-align: left;\">\n",
    "\n",
    " \n",
    "<span style = \"color: red;\">Converting date columns to datetime</span>\n",
    "</h1>\n",
    "'''\n",
    "\n",
    "display(HTML(html_code))"
   ]
  },
  {
   "cell_type": "code",
   "execution_count": 135,
   "id": "37baaa67-1392-4110-aff9-9dac0af24987",
   "metadata": {},
   "outputs": [],
   "source": [
    "# Convert 'date_added' to datetime\n",
    "\n",
    "df['date_added'] = pd.to_datetime(df['date_added'], errors='coerce')\n"
   ]
  },
  {
   "cell_type": "code",
   "execution_count": 136,
   "id": "e70919cf-f4a3-4534-a583-52b8ec016969",
   "metadata": {},
   "outputs": [
    {
     "data": {
      "text/html": [
       "\n",
       "<h1 style = \"background-color: black;\n",
       "color:white; font-size: 20px;\n",
       "border-radius: 20px;\n",
       "padding: 16px;\n",
       "text-align: left;\">\n",
       "\n",
       " \n",
       "<span style = \"color: red;\">Checking for null rows\n",
       "</span>\n",
       "</h1>\n"
      ],
      "text/plain": [
       "<IPython.core.display.HTML object>"
      ]
     },
     "metadata": {},
     "output_type": "display_data"
    }
   ],
   "source": [
    "from IPython.display import HTML, display\n",
    "\n",
    "html_code = '''\n",
    "<h1 style = \"background-color: black;\n",
    "color:white; font-size: 20px;\n",
    "border-radius: 20px;\n",
    "padding: 16px;\n",
    "text-align: left;\">\n",
    "\n",
    " \n",
    "<span style = \"color: red;\">Checking for null rows\n",
    "</span>\n",
    "</h1>\n",
    "'''\n",
    "\n",
    "display(HTML(html_code))"
   ]
  },
  {
   "cell_type": "code",
   "execution_count": 138,
   "id": "f82d97e8-f540-4810-a1a3-920a176877e1",
   "metadata": {},
   "outputs": [
    {
     "data": {
      "text/plain": [
       "(0,\n",
       " Empty DataFrame\n",
       " Columns: [title, date_added]\n",
       " Index: [])"
      ]
     },
     "execution_count": 138,
     "metadata": {},
     "output_type": "execute_result"
    }
   ],
   "source": [
    "null_date_count = df['date_added'].isnull().sum()\n",
    "null_date_rows = df[df['date_added'].isnull()][['title', 'date_added']]\n",
    "\n",
    "null_date_count, null_date_rows.head(10)"
   ]
  },
  {
   "cell_type": "code",
   "execution_count": 139,
   "id": "13e609cf-35db-4749-b90b-1357c08a5e17",
   "metadata": {},
   "outputs": [
    {
     "data": {
      "text/html": [
       "\n",
       "<h1 style = \"background-color: black;\n",
       "color:white; font-size: 20px;\n",
       "border-radius: 20px;\n",
       "padding: 16px;\n",
       "text-align: left;\">\n",
       "\n",
       " \n",
       "<span style = \"color: red;\">Duration Parsing\n",
       "</span>\n",
       "</h1>\n"
      ],
      "text/plain": [
       "<IPython.core.display.HTML object>"
      ]
     },
     "metadata": {},
     "output_type": "display_data"
    }
   ],
   "source": [
    "from IPython.display import HTML, display\n",
    "\n",
    "html_code = '''\n",
    "<h1 style = \"background-color: black;\n",
    "color:white; font-size: 20px;\n",
    "border-radius: 20px;\n",
    "padding: 16px;\n",
    "text-align: left;\">\n",
    "\n",
    " \n",
    "<span style = \"color: red;\">Duration Parsing\n",
    "</span>\n",
    "</h1>\n",
    "'''\n",
    "\n",
    "display(HTML(html_code))"
   ]
  },
  {
   "cell_type": "code",
   "execution_count": 140,
   "id": "e2934844-f59e-4594-996f-48a5014da06e",
   "metadata": {},
   "outputs": [],
   "source": [
    "# Splitting 'duration' into numeric and unit\n",
    "\n",
    "df[['duration_int', 'duration_type']] = df['duration'].str.extract(r'(\\d+)\\s*(\\w+)')\n",
    "df['duration_int'] = pd.to_numeric(df['duration_int'])"
   ]
  },
  {
   "cell_type": "code",
   "execution_count": 141,
   "id": "16a97d6f-568b-4b1b-bd71-cf1acbdfff64",
   "metadata": {},
   "outputs": [
    {
     "data": {
      "text/html": [
       "\n",
       "<h1 style = \"background-color: black;\n",
       "color:white; font-size: 20px;\n",
       "border-radius: 20px;\n",
       "padding: 16px;\n",
       "text-align: left;\">\n",
       "\n",
       " \n",
       "<span style = \"color: red;\">Handling Missing Values\n",
       "</span>\n",
       "</h1>\n"
      ],
      "text/plain": [
       "<IPython.core.display.HTML object>"
      ]
     },
     "metadata": {},
     "output_type": "display_data"
    }
   ],
   "source": [
    "from IPython.display import HTML, display\n",
    "\n",
    "html_code = '''\n",
    "<h1 style = \"background-color: black;\n",
    "color:white; font-size: 20px;\n",
    "border-radius: 20px;\n",
    "padding: 16px;\n",
    "text-align: left;\">\n",
    "\n",
    " \n",
    "<span style = \"color: red;\">Handling Missing Values\n",
    "</span>\n",
    "</h1>\n",
    "'''\n",
    "\n",
    "display(HTML(html_code))"
   ]
  },
  {
   "cell_type": "code",
   "execution_count": 142,
   "id": "3d010f09-0246-4040-942c-db17ce11027d",
   "metadata": {},
   "outputs": [],
   "source": [
    "# Filling missing values with appropriate placeholders\n",
    "\n",
    "df['director'] = df['director'].fillna('Not Specified')\n",
    "df['cast'] = df['cast'].fillna('Not Specified')\n",
    "df['country'] = df['country'].fillna('Not Specified')\n",
    "df['date_added'] = df['date_added'].fillna(pd.Timestamp(\"1900-01-01\"))\n",
    "df['rating'] = df['rating'].fillna('Not Rated')\n",
    "df['duration'] = df['duration'].fillna('Unknown')\n",
    "df['duration_int'] = df['duration_int'].fillna(0)\n",
    "df['duration_type'] = df['duration_type'].fillna('Unknown')\n"
   ]
  },
  {
   "cell_type": "code",
   "execution_count": 143,
   "id": "dd21f185-65e8-4104-9b58-5d2cc4d75d5d",
   "metadata": {},
   "outputs": [],
   "source": [
    "# Extracting year and month from 'date_added'\n",
    "\n",
    "df['year_added'] = df['date_added'].dt.year\n",
    "df['month_added'] = df['date_added'].dt.month"
   ]
  },
  {
   "cell_type": "code",
   "execution_count": 144,
   "id": "f66ca110-3df8-4196-bc82-4044000614a6",
   "metadata": {},
   "outputs": [
    {
     "data": {
      "text/html": [
       "<div>\n",
       "<style scoped>\n",
       "    .dataframe tbody tr th:only-of-type {\n",
       "        vertical-align: middle;\n",
       "    }\n",
       "\n",
       "    .dataframe tbody tr th {\n",
       "        vertical-align: top;\n",
       "    }\n",
       "\n",
       "    .dataframe thead th {\n",
       "        text-align: right;\n",
       "    }\n",
       "</style>\n",
       "<table border=\"1\" class=\"dataframe\">\n",
       "  <thead>\n",
       "    <tr style=\"text-align: right;\">\n",
       "      <th></th>\n",
       "      <th>show_id</th>\n",
       "      <th>type</th>\n",
       "      <th>title</th>\n",
       "      <th>director</th>\n",
       "      <th>cast</th>\n",
       "      <th>country</th>\n",
       "      <th>date_added</th>\n",
       "      <th>release_year</th>\n",
       "      <th>rating</th>\n",
       "      <th>duration</th>\n",
       "      <th>listed_in</th>\n",
       "      <th>description</th>\n",
       "      <th>duration_int</th>\n",
       "      <th>duration_type</th>\n",
       "      <th>year_added</th>\n",
       "      <th>month_added</th>\n",
       "    </tr>\n",
       "  </thead>\n",
       "  <tbody>\n",
       "    <tr>\n",
       "      <th>0</th>\n",
       "      <td>s1</td>\n",
       "      <td>Movie</td>\n",
       "      <td>Dick Johnson Is Dead</td>\n",
       "      <td>Kirsten Johnson</td>\n",
       "      <td>Not Specified</td>\n",
       "      <td>United States</td>\n",
       "      <td>2021-09-25</td>\n",
       "      <td>2020</td>\n",
       "      <td>PG-13</td>\n",
       "      <td>90 min</td>\n",
       "      <td>Documentaries</td>\n",
       "      <td>As her father nears the end of his life, filmm...</td>\n",
       "      <td>90.0</td>\n",
       "      <td>min</td>\n",
       "      <td>2021</td>\n",
       "      <td>9</td>\n",
       "    </tr>\n",
       "    <tr>\n",
       "      <th>1</th>\n",
       "      <td>s2</td>\n",
       "      <td>TV Show</td>\n",
       "      <td>Blood &amp; Water</td>\n",
       "      <td>Not Specified</td>\n",
       "      <td>Ama Qamata, Khosi Ngema, Gail Mabalane, Thaban...</td>\n",
       "      <td>South Africa</td>\n",
       "      <td>2021-09-24</td>\n",
       "      <td>2021</td>\n",
       "      <td>TV-MA</td>\n",
       "      <td>2 Seasons</td>\n",
       "      <td>International TV Shows, TV Dramas, TV Mysteries</td>\n",
       "      <td>After crossing paths at a party, a Cape Town t...</td>\n",
       "      <td>2.0</td>\n",
       "      <td>Seasons</td>\n",
       "      <td>2021</td>\n",
       "      <td>9</td>\n",
       "    </tr>\n",
       "    <tr>\n",
       "      <th>2</th>\n",
       "      <td>s3</td>\n",
       "      <td>TV Show</td>\n",
       "      <td>Ganglands</td>\n",
       "      <td>Julien Leclercq</td>\n",
       "      <td>Sami Bouajila, Tracy Gotoas, Samuel Jouy, Nabi...</td>\n",
       "      <td>Not Specified</td>\n",
       "      <td>2021-09-24</td>\n",
       "      <td>2021</td>\n",
       "      <td>TV-MA</td>\n",
       "      <td>1 Season</td>\n",
       "      <td>Crime TV Shows, International TV Shows, TV Act...</td>\n",
       "      <td>To protect his family from a powerful drug lor...</td>\n",
       "      <td>1.0</td>\n",
       "      <td>Season</td>\n",
       "      <td>2021</td>\n",
       "      <td>9</td>\n",
       "    </tr>\n",
       "    <tr>\n",
       "      <th>3</th>\n",
       "      <td>s4</td>\n",
       "      <td>TV Show</td>\n",
       "      <td>Jailbirds New Orleans</td>\n",
       "      <td>Not Specified</td>\n",
       "      <td>Not Specified</td>\n",
       "      <td>Not Specified</td>\n",
       "      <td>2021-09-24</td>\n",
       "      <td>2021</td>\n",
       "      <td>TV-MA</td>\n",
       "      <td>1 Season</td>\n",
       "      <td>Docuseries, Reality TV</td>\n",
       "      <td>Feuds, flirtations and toilet talk go down amo...</td>\n",
       "      <td>1.0</td>\n",
       "      <td>Season</td>\n",
       "      <td>2021</td>\n",
       "      <td>9</td>\n",
       "    </tr>\n",
       "    <tr>\n",
       "      <th>4</th>\n",
       "      <td>s5</td>\n",
       "      <td>TV Show</td>\n",
       "      <td>Kota Factory</td>\n",
       "      <td>Not Specified</td>\n",
       "      <td>Mayur More, Jitendra Kumar, Ranjan Raj, Alam K...</td>\n",
       "      <td>India</td>\n",
       "      <td>2021-09-24</td>\n",
       "      <td>2021</td>\n",
       "      <td>TV-MA</td>\n",
       "      <td>2 Seasons</td>\n",
       "      <td>International TV Shows, Romantic TV Shows, TV ...</td>\n",
       "      <td>In a city of coaching centers known to train I...</td>\n",
       "      <td>2.0</td>\n",
       "      <td>Seasons</td>\n",
       "      <td>2021</td>\n",
       "      <td>9</td>\n",
       "    </tr>\n",
       "  </tbody>\n",
       "</table>\n",
       "</div>"
      ],
      "text/plain": [
       "  show_id     type                  title         director  \\\n",
       "0      s1    Movie   Dick Johnson Is Dead  Kirsten Johnson   \n",
       "1      s2  TV Show          Blood & Water    Not Specified   \n",
       "2      s3  TV Show              Ganglands  Julien Leclercq   \n",
       "3      s4  TV Show  Jailbirds New Orleans    Not Specified   \n",
       "4      s5  TV Show           Kota Factory    Not Specified   \n",
       "\n",
       "                                                cast        country  \\\n",
       "0                                      Not Specified  United States   \n",
       "1  Ama Qamata, Khosi Ngema, Gail Mabalane, Thaban...   South Africa   \n",
       "2  Sami Bouajila, Tracy Gotoas, Samuel Jouy, Nabi...  Not Specified   \n",
       "3                                      Not Specified  Not Specified   \n",
       "4  Mayur More, Jitendra Kumar, Ranjan Raj, Alam K...          India   \n",
       "\n",
       "  date_added  release_year rating   duration  \\\n",
       "0 2021-09-25          2020  PG-13     90 min   \n",
       "1 2021-09-24          2021  TV-MA  2 Seasons   \n",
       "2 2021-09-24          2021  TV-MA   1 Season   \n",
       "3 2021-09-24          2021  TV-MA   1 Season   \n",
       "4 2021-09-24          2021  TV-MA  2 Seasons   \n",
       "\n",
       "                                           listed_in  \\\n",
       "0                                      Documentaries   \n",
       "1    International TV Shows, TV Dramas, TV Mysteries   \n",
       "2  Crime TV Shows, International TV Shows, TV Act...   \n",
       "3                             Docuseries, Reality TV   \n",
       "4  International TV Shows, Romantic TV Shows, TV ...   \n",
       "\n",
       "                                         description  duration_int  \\\n",
       "0  As her father nears the end of his life, filmm...          90.0   \n",
       "1  After crossing paths at a party, a Cape Town t...           2.0   \n",
       "2  To protect his family from a powerful drug lor...           1.0   \n",
       "3  Feuds, flirtations and toilet talk go down amo...           1.0   \n",
       "4  In a city of coaching centers known to train I...           2.0   \n",
       "\n",
       "  duration_type  year_added  month_added  \n",
       "0           min        2021            9  \n",
       "1       Seasons        2021            9  \n",
       "2        Season        2021            9  \n",
       "3        Season        2021            9  \n",
       "4       Seasons        2021            9  "
      ]
     },
     "execution_count": 144,
     "metadata": {},
     "output_type": "execute_result"
    }
   ],
   "source": [
    "# Previewing the cleaned dataframe\n",
    "\n",
    "df_clean_preview = df.head()\n",
    "\n",
    "df_clean_preview"
   ]
  },
  {
   "cell_type": "code",
   "execution_count": 145,
   "id": "d2979b94-5ed3-4a51-9fbe-e34c4ff0d815",
   "metadata": {},
   "outputs": [
    {
     "data": {
      "text/html": [
       "\n",
       "<h1 style = \"background-color: grey; font-size: 14px;\n",
       "border-radius: 20px;\n",
       "padding: 12px;\n",
       "border: 4px solid darkgreen\n",
       "text-align: left;\">\n",
       "\n",
       "<span style = \"color:black; font-size: 16px;\n",
       "\">✅ Data Cleaning Complete! Here's what we've done:<br><br>\n",
       "</span> \n",
       "\n",
       "<span style = \"color:white; font-size: 14px;\n",
       "\"><ul>- Converted date_added to datetime. </ul>\n",
       "  <ul>- Extracted duration_int and duration_type. </ul>\n",
       "  <ul>- Handled missing values. </ul>\n",
       "  <ul>- Added year_added and month_added. </ul></span>\n",
       "<br><br>\n",
       "\n",
       "</h1>\n"
      ],
      "text/plain": [
       "<IPython.core.display.HTML object>"
      ]
     },
     "metadata": {},
     "output_type": "display_data"
    }
   ],
   "source": [
    "from IPython.display import HTML, display\n",
    "\n",
    "html_code = '''\n",
    "<h1 style = \"background-color: grey; font-size: 14px;\n",
    "border-radius: 20px;\n",
    "padding: 12px;\n",
    "border: 4px solid darkgreen\n",
    "text-align: left;\">\n",
    "\n",
    "<span style = \"color:black; font-size: 16px;\n",
    "\">✅ Data Cleaning Complete! Here's what we've done:<br><br>\n",
    "</span> \n",
    "\n",
    "<span style = \"color:white; font-size: 14px;\n",
    "\"><ul>- Converted date_added to datetime. </ul>\n",
    "  <ul>- Extracted duration_int and duration_type. </ul>\n",
    "  <ul>- Handled missing values. </ul>\n",
    "  <ul>- Added year_added and month_added. </ul></span>\n",
    "<br><br>\n",
    "\n",
    "</h1>\n",
    "'''\n",
    "\n",
    "display(HTML(html_code))"
   ]
  },
  {
   "cell_type": "code",
   "execution_count": 79,
   "id": "a5db0385-912c-4e4a-bf80-fc636c435ccd",
   "metadata": {},
   "outputs": [
    {
     "data": {
      "text/html": [
       "\n",
       "<h1 style = \"background-color: black;\n",
       "color:white; font-size: 30px;\n",
       "border-radius: 20px;\n",
       "padding: 16px;\n",
       "text-align: center;\">\n",
       "\n",
       " \n",
       "<span style = \"color: red;\">Data Visualization</span>\n",
       "</h1>\n"
      ],
      "text/plain": [
       "<IPython.core.display.HTML object>"
      ]
     },
     "metadata": {},
     "output_type": "display_data"
    }
   ],
   "source": [
    "from IPython.display import HTML, display\n",
    "\n",
    "html_code = '''\n",
    "<h1 style = \"background-color: black;\n",
    "color:white; font-size: 30px;\n",
    "border-radius: 20px;\n",
    "padding: 16px;\n",
    "text-align: center;\">\n",
    "\n",
    " \n",
    "<span style = \"color: red;\">Data Visualization</span>\n",
    "</h1>\n",
    "'''\n",
    "\n",
    "display(HTML(html_code))"
   ]
  },
  {
   "cell_type": "code",
   "execution_count": 80,
   "id": "dfbbe88f-a660-4344-b66f-6964d95051e5",
   "metadata": {},
   "outputs": [
    {
     "data": {
      "text/html": [
       "\n",
       "<h1 style = \"background-color: black;\n",
       "color:white; font-size: 20px;\n",
       "border-radius: 20px;\n",
       "padding: 16px;\n",
       "text-align: left;\">\n",
       "\n",
       " \n",
       "<span style = \"color: red;\">Setting the Theme\n",
       "</span>\n",
       "</h1>\n"
      ],
      "text/plain": [
       "<IPython.core.display.HTML object>"
      ]
     },
     "metadata": {},
     "output_type": "display_data"
    }
   ],
   "source": [
    "from IPython.display import HTML, display\n",
    "\n",
    "html_code = '''\n",
    "<h1 style = \"background-color: black;\n",
    "color:white; font-size: 20px;\n",
    "border-radius: 20px;\n",
    "padding: 16px;\n",
    "text-align: left;\">\n",
    "\n",
    " \n",
    "<span style = \"color: red;\">Setting the Theme\n",
    "</span>\n",
    "</h1>\n",
    "'''\n",
    "\n",
    "display(HTML(html_code))"
   ]
  },
  {
   "cell_type": "code",
   "execution_count": 53,
   "id": "7743df75-090d-4156-9fdb-f88e26c60eb6",
   "metadata": {},
   "outputs": [],
   "source": [
    "sns.set(style='whitegrid')"
   ]
  },
  {
   "cell_type": "code",
   "execution_count": 146,
   "id": "c273295f-61a4-413e-8898-6ec54a7df3c4",
   "metadata": {},
   "outputs": [
    {
     "data": {
      "text/html": [
       "\n",
       "<h1 style = \"background-color: grey; font-size: 14px;\n",
       "border-radius: 20px;\n",
       "padding: 12px;\n",
       "border: 4px solid darkgreen\n",
       "text-align: left;\">\n",
       "\n",
       "<span style = \"color:black; font-size: 16px;\n",
       "\">Here's what we are going to do:<br><br>\n",
       "</span> \n",
       "\n",
       "<span style = \"color:black; font-size: 16px;\n",
       "\">Exploratory Data Analysis (EDA) with visualizations, insights, and possible business actions.<br><br>\n",
       "</span>\n",
       "\n",
       "<span style = \"color:white; font-size: 12px; font-size: 14px;\n",
       "\"><ul>1. Distribution of content types. </ul>\n",
       "  <ul>2. Top countries producing content. </ul>\n",
       "  <ul>3. Trend of content added over time. </ul>\n",
       "  <ul>4. Ratings distribution. </ul>\n",
       "  <ul>5. Most common genres. </ul>\n",
       "  <ul>6. Content duration patterns. </ul></span>\n",
       "<br><br>\n",
       "\n",
       "</h1>\n"
      ],
      "text/plain": [
       "<IPython.core.display.HTML object>"
      ]
     },
     "metadata": {},
     "output_type": "display_data"
    }
   ],
   "source": [
    "from IPython.display import HTML, display\n",
    "\n",
    "html_code = '''\n",
    "<h1 style = \"background-color: grey; font-size: 14px;\n",
    "border-radius: 20px;\n",
    "padding: 12px;\n",
    "border: 4px solid darkgreen\n",
    "text-align: left;\">\n",
    "\n",
    "<span style = \"color:black; font-size: 16px;\n",
    "\">Here's what we are going to do:<br><br>\n",
    "</span> \n",
    "\n",
    "<span style = \"color:black; font-size: 16px;\n",
    "\">Exploratory Data Analysis (EDA) with visualizations, insights, and possible business actions.<br><br>\n",
    "</span>\n",
    "\n",
    "<span style = \"color:white; font-size: 12px; font-size: 14px;\n",
    "\"><ul>1. Distribution of content types. </ul>\n",
    "  <ul>2. Top countries producing content. </ul>\n",
    "  <ul>3. Trend of content added over time. </ul>\n",
    "  <ul>4. Ratings distribution. </ul>\n",
    "  <ul>5. Most common genres. </ul>\n",
    "  <ul>6. Content duration patterns. </ul></span>\n",
    "<br><br>\n",
    "\n",
    "</h1>\n",
    "'''\n",
    "\n",
    "display(HTML(html_code))"
   ]
  },
  {
   "cell_type": "code",
   "execution_count": 148,
   "id": "38d6c274-4a35-43b0-9be9-2e0208df291c",
   "metadata": {},
   "outputs": [
    {
     "data": {
      "text/html": [
       "\n",
       "<h1 style = \"background-color: black;\n",
       "color:white; font-size: 20px;\n",
       "border-radius: 20px;\n",
       "padding: 16px;\n",
       "text-align: left;\">\n",
       "\n",
       " \n",
       "<span style = \"color: red;\">1. Distribution of Content Types on Netflix\n",
       "</span>\n",
       "</h1>\n"
      ],
      "text/plain": [
       "<IPython.core.display.HTML object>"
      ]
     },
     "metadata": {},
     "output_type": "display_data"
    }
   ],
   "source": [
    "from IPython.display import HTML, display\n",
    "\n",
    "html_code = '''\n",
    "<h1 style = \"background-color: black;\n",
    "color:white; font-size: 20px;\n",
    "border-radius: 20px;\n",
    "padding: 16px;\n",
    "text-align: left;\">\n",
    "\n",
    " \n",
    "<span style = \"color: red;\">1. Distribution of Content Types on Netflix\n",
    "</span>\n",
    "</h1>\n",
    "'''\n",
    "\n",
    "display(HTML(html_code))"
   ]
  },
  {
   "cell_type": "code",
   "execution_count": 54,
   "id": "48b427a0-d784-4471-8ee8-1e992eb76e90",
   "metadata": {},
   "outputs": [
    {
     "data": {
      "image/png": "[encoded data removed]",
      "text/plain": [
       "<Figure size 600x400 with 1 Axes>"
      ]
     },
     "metadata": {},
     "output_type": "display_data"
    }
   ],
   "source": [
    "plt.figure(figsize=(6, 4))\n",
    "sns.countplot(data=df, x='type', palette='Set2')\n",
    "plt.title(\"Distribution of Content Types on Netflix\")\n",
    "plt.xlabel('Type')\n",
    "plt.ylabel('Count')\n",
    "plt.tight_layout()\n",
    "plt.show()"
   ]
  },
  {
   "cell_type": "code",
   "execution_count": 152,
   "id": "d74e7fe0-fb52-4aeb-9d20-c3bbd7991c33",
   "metadata": {},
   "outputs": [
    {
     "data": {
      "text/html": [
       "\n",
       "<h1 style = \"background-color: grey; font-size: 14px;\n",
       "border-radius: 20px;\n",
       "padding: 12px;\n",
       "border: 4px solid darkgreen\n",
       "text-align: left;\">\n",
       "\n",
       "<span style = \"color:black; font-size: 16px;\n",
       "\">🎬 Insight 1: Content Type Distribution <br><br>\n",
       "</span>\n",
       "\n",
       "<span style = \"color:white; font-size: 12px; font-size: 14px;\n",
       "\"><ul>TV Shows and Movies make up all Netflix content. </ul>\n",
       "  <ul>Movies dominate, with a significantly higher count than TV Shows.</ul></span>\n",
       "\n",
       "<span style = \"color:black; font-size: 14px;\n",
       "\">💡 Business Implications:<br><br>\n",
       "</span>\n",
       "\n",
       "<span style = \"color:white; font-size: 14px;\n",
       "\"><ul>Netflix appears to favor one-off movie content, possibly due to lower production risk or shorter time to market.</ul></span>\n",
       "  \n",
       "<span style = \"color:black;font-size: 14px;\n",
       "\">--> Opportunity:<br><br>\n",
       "</span>\n",
       "\n",
       "<span style = \"color:white; font-size: 14px;\n",
       "\"><ul>If engagement per user is higher for TV Shows, increasing investment there could improve retention.</ul></span>\n",
       "    \n",
       "<br>\n",
       "\n",
       "</h1>\n"
      ],
      "text/plain": [
       "<IPython.core.display.HTML object>"
      ]
     },
     "metadata": {},
     "output_type": "display_data"
    }
   ],
   "source": [
    "from IPython.display import HTML, display\n",
    "\n",
    "html_code = '''\n",
    "<h1 style = \"background-color: grey; font-size: 14px;\n",
    "border-radius: 20px;\n",
    "padding: 12px;\n",
    "border: 4px solid darkgreen\n",
    "text-align: left;\">\n",
    "\n",
    "<span style = \"color:black; font-size: 16px;\n",
    "\">🎬 Insight 1: Content Type Distribution <br><br>\n",
    "</span>\n",
    "\n",
    "<span style = \"color:white; font-size: 12px; font-size: 14px;\n",
    "\"><ul>TV Shows and Movies make up all Netflix content. </ul>\n",
    "  <ul>Movies dominate, with a significantly higher count than TV Shows.</ul></span>\n",
    "\n",
    "<span style = \"color:black; font-size: 14px;\n",
    "\">💡 Business Implications:<br><br>\n",
    "</span>\n",
    "\n",
    "<span style = \"color:white; font-size: 14px;\n",
    "\"><ul>Netflix appears to favor one-off movie content, possibly due to lower production risk or shorter time to market.</ul></span>\n",
    "  \n",
    "<span style = \"color:black;font-size: 14px;\n",
    "\">--> Opportunity:<br><br>\n",
    "</span>\n",
    "\n",
    "<span style = \"color:white; font-size: 14px;\n",
    "\"><ul>If engagement per user is higher for TV Shows, increasing investment there could improve retention.</ul></span>\n",
    "    \n",
    "<br>\n",
    "\n",
    "</h1>\n",
    "'''\n",
    "\n",
    "display(HTML(html_code))"
   ]
  },
  {
   "cell_type": "code",
   "execution_count": 153,
   "id": "e701cebd-0684-4888-be02-44882df4aecd",
   "metadata": {},
   "outputs": [
    {
     "data": {
      "text/html": [
       "\n",
       "<h1 style = \"background-color: black;\n",
       "color:white; font-size: 20px;\n",
       "border-radius: 20px;\n",
       "padding: 16px;\n",
       "text-align: left;\">\n",
       "\n",
       " \n",
       "<span style = \"color: red;\">2. Top 10 Countries by Number of Netflix Titles \n",
       "</span>\n",
       "</h1>\n"
      ],
      "text/plain": [
       "<IPython.core.display.HTML object>"
      ]
     },
     "metadata": {},
     "output_type": "display_data"
    }
   ],
   "source": [
    "from IPython.display import HTML, display\n",
    "\n",
    "html_code = '''\n",
    "<h1 style = \"background-color: black;\n",
    "color:white; font-size: 20px;\n",
    "border-radius: 20px;\n",
    "padding: 16px;\n",
    "text-align: left;\">\n",
    "\n",
    " \n",
    "<span style = \"color: red;\">2. Top 10 Countries by Number of Netflix Titles \n",
    "</span>\n",
    "</h1>\n",
    "'''\n",
    "\n",
    "display(HTML(html_code))"
   ]
  },
  {
   "cell_type": "code",
   "execution_count": 55,
   "id": "4e6aac27-88f2-45c8-957a-98808abe4244",
   "metadata": {},
   "outputs": [],
   "source": [
    "top_countries = (\n",
    "    df[df['country']!= 'Not Specified']\n",
    "    .groupby('country')['show_id']\n",
    "    .count()\n",
    "    .sort_values(ascending=False)\n",
    "    .head(10)\n",
    ")\n"
   ]
  },
  {
   "cell_type": "code",
   "execution_count": 56,
   "id": "3b1db40c-c5b0-4d57-95f6-3d98e9f28cab",
   "metadata": {},
   "outputs": [
    {
     "data": {
      "image/png": "[encoded data removed]",
      "text/plain": [
       "<Figure size 1000x600 with 1 Axes>"
      ]
     },
     "metadata": {},
     "output_type": "display_data"
    }
   ],
   "source": [
    "plt.figure(figsize=(10, 6))\n",
    "sns.barplot(x=top_countries.values, y=top_countries.index, palette='crest')\n",
    "plt.title(\"Top 10 Countries by Number of Netflix Titles\")\n",
    "plt.xlabel(\"Number of Titles\")\n",
    "plt.ylabel(\"Country\")\n",
    "plt.tight_layout()\n",
    "plt.show()\n"
   ]
  },
  {
   "cell_type": "code",
   "execution_count": 156,
   "id": "fde408c7-b0a7-4142-9ac8-cbe1fac0d185",
   "metadata": {},
   "outputs": [
    {
     "data": {
      "text/html": [
       "\n",
       "<h1 style = \"background-color: grey; font-size: 14px;\n",
       "border-radius: 20px;\n",
       "padding: 12px;\n",
       "border: 4px solid darkgreen\n",
       "text-align: left;\">\n",
       "\n",
       "<span style = \"color:black; font-size: 16px;\n",
       "\">🌍 Insight 2: Top Producing Countries <br><br>\n",
       "</span>\n",
       "\n",
       "<span style = \"color:white; font-size: 14px;\n",
       "\"><ul>United States leads by a wide margin, followed by India, United Kingdom, and Canada.</ul>\n",
       "  <ul>A mix of Western and non-Western countries suggests a diverse content strategy.</ul></span>\n",
       "<br><br>\n",
       "\n",
       "<span style = \"color:black; font-size: 14px;\n",
       "\">💡 Business Recommendations:<br><br>\n",
       "</span>\n",
       "\n",
       "<span style = \"color:white; font-size: 14px;\n",
       "\"><ul><strong>Localization Opportunity:</strong> With India and other non-English countries in the top list, Netflix could expand localized marketing and dubbing efforts.</ul>\n",
       "  <ul><strong>Regional Partnerships:</strong> Strengthen production partnerships in high-output countries like India and UK to scale popular genres.</ul></span>\n",
       "   \n",
       "<br>\n",
       "\n",
       "</h1>\n"
      ],
      "text/plain": [
       "<IPython.core.display.HTML object>"
      ]
     },
     "metadata": {},
     "output_type": "display_data"
    }
   ],
   "source": [
    "from IPython.display import HTML, display\n",
    "\n",
    "html_code = '''\n",
    "<h1 style = \"background-color: grey; font-size: 14px;\n",
    "border-radius: 20px;\n",
    "padding: 12px;\n",
    "border: 4px solid darkgreen\n",
    "text-align: left;\">\n",
    "\n",
    "<span style = \"color:black; font-size: 16px;\n",
    "\">🌍 Insight 2: Top Producing Countries <br><br>\n",
    "</span>\n",
    "\n",
    "<span style = \"color:white; font-size: 14px;\n",
    "\"><ul>United States leads by a wide margin, followed by India, United Kingdom, and Canada.</ul>\n",
    "  <ul>A mix of Western and non-Western countries suggests a diverse content strategy.</ul></span>\n",
    "<br><br>\n",
    "\n",
    "<span style = \"color:black; font-size: 14px;\n",
    "\">💡 Business Recommendations:<br><br>\n",
    "</span>\n",
    "\n",
    "<span style = \"color:white; font-size: 14px;\n",
    "\"><ul><strong>Localization Opportunity:</strong> With India and other non-English countries in the top list, Netflix could expand localized marketing and dubbing efforts.</ul>\n",
    "  <ul><strong>Regional Partnerships:</strong> Strengthen production partnerships in high-output countries like India and UK to scale popular genres.</ul></span>\n",
    "   \n",
    "<br>\n",
    "\n",
    "</h1>\n",
    "'''\n",
    "\n",
    "display(HTML(html_code))"
   ]
  },
  {
   "cell_type": "code",
   "execution_count": 155,
   "id": "b02e580d-24dc-4e02-ad1c-ab4e97d53020",
   "metadata": {},
   "outputs": [
    {
     "data": {
      "text/html": [
       "\n",
       "<h1 style = \"background-color: black;\n",
       "color:white; font-size: 20px;\n",
       "border-radius: 20px;\n",
       "padding: 16px;\n",
       "text-align: left;\">\n",
       "\n",
       " \n",
       "<span style = \"color: red;\">3. Trend of Content Added to Netflix by Year\n",
       "</span>\n",
       "</h1>\n"
      ],
      "text/plain": [
       "<IPython.core.display.HTML object>"
      ]
     },
     "metadata": {},
     "output_type": "display_data"
    }
   ],
   "source": [
    "from IPython.display import HTML, display\n",
    "\n",
    "html_code = '''\n",
    "<h1 style = \"background-color: black;\n",
    "color:white; font-size: 20px;\n",
    "border-radius: 20px;\n",
    "padding: 16px;\n",
    "text-align: left;\">\n",
    "\n",
    " \n",
    "<span style = \"color: red;\">3. Trend of Content Added to Netflix by Year\n",
    "</span>\n",
    "</h1>\n",
    "'''\n",
    "\n",
    "display(HTML(html_code))"
   ]
  },
  {
   "cell_type": "code",
   "execution_count": 57,
   "id": "1aad5b8f-762a-40b5-a5f7-03829d357c18",
   "metadata": {},
   "outputs": [],
   "source": [
    "titles_by_year = df[df['year_added']>1900].groupby('year_added')['show_id'].count()"
   ]
  },
  {
   "cell_type": "code",
   "execution_count": 58,
   "id": "b390c106-e242-435a-9c02-b4eff09d87df",
   "metadata": {},
   "outputs": [
    {
     "data": {
      "image/png": "[encoded data removed]",
      "text/plain": [
       "<Figure size 1000x500 with 1 Axes>"
      ]
     },
     "metadata": {},
     "output_type": "display_data"
    }
   ],
   "source": [
    "plt.figure(figsize=(10, 5))\n",
    "sns.lineplot(x=titles_by_year.index, y=titles_by_year.values, marker='o')\n",
    "plt.title(\"Trend of Content Added to Netflix by Year\")\n",
    "plt.xlabel('Year Added')\n",
    "plt.ylabel('Number of Titles')\n",
    "plt.xticks(rotation=45)\n",
    "plt.tight_layout()\n",
    "plt.show()"
   ]
  },
  {
   "cell_type": "code",
   "execution_count": 157,
   "id": "0e6621ba-cfce-409a-8e3b-54e1fb8284b3",
   "metadata": {},
   "outputs": [
    {
     "data": {
      "text/html": [
       "\n",
       "<h1 style = \"background-color: grey; font-size: 14px;\n",
       "border-radius: 20px;\n",
       "padding: 12px;\n",
       "border: 4px solid darkgreen\n",
       "text-align: left;\">\n",
       "\n",
       "<span style = \"color:black; font-size: 16px;\n",
       "\">📈 Insight 3: Content Addition Over the Years <br><br>\n",
       "</span>\n",
       "\n",
       "<span style = \"color:white; font-size: 14px;\n",
       "\"><ul>Massive growth from 2016 to 2019, peaking just before the pandemic.</ul>\n",
       "  <ul>Slight drop in 2020-2021, likely due to COVID-19 production halts. </ul></span>\n",
       "<br><br>\n",
       "\n",
       "<span style = \"color:black; font-size: 14px;\n",
       "\">💡 Business Implications:<br><br>\n",
       "</span>\n",
       "\n",
       "<span style = \"color:white; font-size: 14px;\n",
       "\"><ul><strong>Post-pandemic Rebound:</strong> Netflix should analyze the genres that performed well during the drop and double down on them.</ul>\n",
       "  <ul><strong>Data-driven Strategy:</strong> Use this trend to anticipate future production needs and optimize content pipelines.</ul></span>\n",
       "   \n",
       "<br>\n",
       "\n",
       "</h1>\n"
      ],
      "text/plain": [
       "<IPython.core.display.HTML object>"
      ]
     },
     "metadata": {},
     "output_type": "display_data"
    }
   ],
   "source": [
    "from IPython.display import HTML, display\n",
    "\n",
    "html_code = '''\n",
    "<h1 style = \"background-color: grey; font-size: 14px;\n",
    "border-radius: 20px;\n",
    "padding: 12px;\n",
    "border: 4px solid darkgreen\n",
    "text-align: left;\">\n",
    "\n",
    "<span style = \"color:black; font-size: 16px;\n",
    "\">📈 Insight 3: Content Addition Over the Years <br><br>\n",
    "</span>\n",
    "\n",
    "<span style = \"color:white; font-size: 14px;\n",
    "\"><ul>Massive growth from 2016 to 2019, peaking just before the pandemic.</ul>\n",
    "  <ul>Slight drop in 2020-2021, likely due to COVID-19 production halts. </ul></span>\n",
    "<br><br>\n",
    "\n",
    "<span style = \"color:black; font-size: 14px;\n",
    "\">💡 Business Implications:<br><br>\n",
    "</span>\n",
    "\n",
    "<span style = \"color:white; font-size: 14px;\n",
    "\"><ul><strong>Post-pandemic Rebound:</strong> Netflix should analyze the genres that performed well during the drop and double down on them.</ul>\n",
    "  <ul><strong>Data-driven Strategy:</strong> Use this trend to anticipate future production needs and optimize content pipelines.</ul></span>\n",
    "   \n",
    "<br>\n",
    "\n",
    "</h1>\n",
    "'''\n",
    "\n",
    "display(HTML(html_code))"
   ]
  },
  {
   "cell_type": "code",
   "execution_count": 158,
   "id": "9b6cf1d6-c313-476a-9e07-c4505f544418",
   "metadata": {},
   "outputs": [
    {
     "data": {
      "text/html": [
       "\n",
       "<h1 style = \"background-color: black;\n",
       "color:white; font-size: 20px;\n",
       "border-radius: 20px;\n",
       "padding: 16px;\n",
       "text-align: left;\">\n",
       "\n",
       " \n",
       "<span style = \"color: red;\">4. Distribution of Top 10 Ratings\n",
       "</span>\n",
       "</h1>\n"
      ],
      "text/plain": [
       "<IPython.core.display.HTML object>"
      ]
     },
     "metadata": {},
     "output_type": "display_data"
    }
   ],
   "source": [
    "from IPython.display import HTML, display\n",
    "\n",
    "html_code = '''\n",
    "<h1 style = \"background-color: black;\n",
    "color:white; font-size: 20px;\n",
    "border-radius: 20px;\n",
    "padding: 16px;\n",
    "text-align: left;\">\n",
    "\n",
    " \n",
    "<span style = \"color: red;\">4. Distribution of Top 10 Ratings\n",
    "</span>\n",
    "</h1>\n",
    "'''\n",
    "\n",
    "display(HTML(html_code))"
   ]
  },
  {
   "cell_type": "code",
   "execution_count": 159,
   "id": "20dd7085-4914-4136-ba9f-2cfa1b37ae0a",
   "metadata": {},
   "outputs": [],
   "source": [
    "top_ratings = df['rating'].value_counts().head(10)"
   ]
  },
  {
   "cell_type": "code",
   "execution_count": 160,
   "id": "2555742b-8a99-49ef-a72b-c0c269c10f32",
   "metadata": {},
   "outputs": [
    {
     "data": {
      "image/png": "[encoded data removed]",
      "text/plain": [
       "<Figure size 1000x500 with 1 Axes>"
      ]
     },
     "metadata": {},
     "output_type": "display_data"
    }
   ],
   "source": [
    "plt.figure(figsize=(10, 5))\n",
    "sns.barplot(x=top_ratings.index, y=top_ratings.values, palette='flare')\n",
    "plt.title(\"Distribution of Top 10 Ratings\")\n",
    "plt.xlabel('Rating')\n",
    "plt.ylabel('Count')\n",
    "plt.tight_layout()\n",
    "plt.show()"
   ]
  },
  {
   "cell_type": "code",
   "execution_count": 161,
   "id": "7315f2a7-7405-46dc-8935-a3f3d81f5ece",
   "metadata": {},
   "outputs": [
    {
     "data": {
      "text/html": [
       "\n",
       "<h1 style = \"background-color: grey; font-size: 14px;\n",
       "border-radius: 20px;\n",
       "padding: 12px;\n",
       "border: 4px solid darkgreen\n",
       "text-align: left;\">\n",
       "\n",
       "<span style = \"color:black; font-size: 16px;\n",
       "\">🔞 Insight 4: Content Ratings <br><br>\n",
       "</span>\n",
       "\n",
       "<span style = \"color:white; font-size: 14px;\n",
       "\"><ul>TV-MA (Mature Audience) dominates, followed by TV-14, TV-PG, and R.</ul>\n",
       "  <ul>Majority of content skews towards teen and adult audiences. </ul></span>\n",
       "<br><br>\n",
       "\n",
       "<span style = \"color:black; font-size: 14px;\n",
       "\">💡 Strategic Actions:<br><br>\n",
       "</span>\n",
       "\n",
       "<span style = \"color:white; font-size: 14px;\n",
       "\"><ul>If aiming to increase family subscriptions, Netflix may consider expanding PG/G-rated content.</ul>\n",
       "  <ul>Explore regional differences in rating preferences to better tailor the content library per country.</ul></span>\n",
       "   \n",
       "<br>\n",
       "\n",
       "</h1>\n"
      ],
      "text/plain": [
       "<IPython.core.display.HTML object>"
      ]
     },
     "metadata": {},
     "output_type": "display_data"
    }
   ],
   "source": [
    "from IPython.display import HTML, display\n",
    "\n",
    "html_code = '''\n",
    "<h1 style = \"background-color: grey; font-size: 14px;\n",
    "border-radius: 20px;\n",
    "padding: 12px;\n",
    "border: 4px solid darkgreen\n",
    "text-align: left;\">\n",
    "\n",
    "<span style = \"color:black; font-size: 16px;\n",
    "\">🔞 Insight 4: Content Ratings <br><br>\n",
    "</span>\n",
    "\n",
    "<span style = \"color:white; font-size: 14px;\n",
    "\"><ul>TV-MA (Mature Audience) dominates, followed by TV-14, TV-PG, and R.</ul>\n",
    "  <ul>Majority of content skews towards teen and adult audiences. </ul></span>\n",
    "<br><br>\n",
    "\n",
    "<span style = \"color:black; font-size: 14px;\n",
    "\">💡 Strategic Actions:<br><br>\n",
    "</span>\n",
    "\n",
    "<span style = \"color:white; font-size: 14px;\n",
    "\"><ul>If aiming to increase family subscriptions, Netflix may consider expanding PG/G-rated content.</ul>\n",
    "  <ul>Explore regional differences in rating preferences to better tailor the content library per country.</ul></span>\n",
    "   \n",
    "<br>\n",
    "\n",
    "</h1>\n",
    "'''\n",
    "\n",
    "display(HTML(html_code))"
   ]
  },
  {
   "cell_type": "code",
   "execution_count": 162,
   "id": "7c08128a-54bf-4129-95c5-e27a39badae0",
   "metadata": {},
   "outputs": [
    {
     "data": {
      "text/html": [
       "\n",
       "<h1 style = \"background-color: black;\n",
       "color:white; font-size: 20px;\n",
       "border-radius: 20px;\n",
       "padding: 16px;\n",
       "text-align: left;\">\n",
       "\n",
       " \n",
       "<span style = \"color: red;\">5. Top 10 Most Common Netflix Genres\n",
       "</span>\n",
       "</h1>\n"
      ],
      "text/plain": [
       "<IPython.core.display.HTML object>"
      ]
     },
     "metadata": {},
     "output_type": "display_data"
    }
   ],
   "source": [
    "from IPython.display import HTML, display\n",
    "\n",
    "html_code = '''\n",
    "<h1 style = \"background-color: black;\n",
    "color:white; font-size: 20px;\n",
    "border-radius: 20px;\n",
    "padding: 16px;\n",
    "text-align: left;\">\n",
    "\n",
    " \n",
    "<span style = \"color: red;\">5. Top 10 Most Common Netflix Genres\n",
    "</span>\n",
    "</h1>\n",
    "'''\n",
    "\n",
    "display(HTML(html_code))"
   ]
  },
  {
   "cell_type": "code",
   "execution_count": 61,
   "id": "eafd58fb-6b83-4d8c-8b66-fb1f86e4fc31",
   "metadata": {},
   "outputs": [],
   "source": [
    "all_genres = df['listed_in'].str.split(', ').sum()\n",
    "genre_counts = Counter(all_genres)\n",
    "top_genres = pd.Series(genre_counts).sort_values(ascending=False).head(10)"
   ]
  },
  {
   "cell_type": "code",
   "execution_count": 62,
   "id": "a0de4883-981a-48d1-b6a6-8c4c73e01946",
   "metadata": {},
   "outputs": [
    {
     "data": {
      "image/png": "[encoded data removed]",
      "text/plain": [
       "<Figure size 1000x500 with 1 Axes>"
      ]
     },
     "metadata": {},
     "output_type": "display_data"
    }
   ],
   "source": [
    "plt.figure(figsize=(10, 5))\n",
    "sns.barplot(x=top_genres.values, y=top_genres.index, palette='magma')\n",
    "plt.title(\"Top 10 Most Common Netflix Genres\")\n",
    "plt.xlabel('Number of Titles')\n",
    "plt.ylabel('Genre')\n",
    "plt.tight_layout()\n",
    "plt.show()"
   ]
  },
  {
   "cell_type": "code",
   "execution_count": 163,
   "id": "097a2cf2-d921-48c4-b2e3-8f3ff792632c",
   "metadata": {},
   "outputs": [
    {
     "data": {
      "text/html": [
       "\n",
       "<h1 style = \"background-color: grey; font-size: 14px;\n",
       "border-radius: 20px;\n",
       "padding: 12px;\n",
       "border: 4px solid darkgreen\n",
       "text-align: left;\">\n",
       "\n",
       "<span style = \"color:black; font-size: 16px;\n",
       "\">🎭 Insight 5: Most Common Genres<br><br>\n",
       "</span>\n",
       "\n",
       "<span style = \"color:white; font-size: 14px;\n",
       "\"><ul>Dramas, Comedies, and Documentaries top the list.</ul>\n",
       "  <ul>Other popular genres: Action, International, and Kids content. </ul></span>\n",
       "<br><br>\n",
       "\n",
       "<span style = \"color:black; font-size: 14px;\n",
       "\">💡 Business Moves:<br><br>\n",
       "</span>\n",
       "\n",
       "<span style = \"color:white; font-size: 14px;\n",
       "\"><ul>Strong drama and comedy presence means Netflix should continue investing in original series in these genres.</ul>\n",
       "  <ul>Consider increasing interactive content in top genres to boost engagement.</ul></span>\n",
       "   \n",
       "<br>\n",
       "\n",
       "</h1>\n"
      ],
      "text/plain": [
       "<IPython.core.display.HTML object>"
      ]
     },
     "metadata": {},
     "output_type": "display_data"
    }
   ],
   "source": [
    "from IPython.display import HTML, display\n",
    "\n",
    "html_code = '''\n",
    "<h1 style = \"background-color: grey; font-size: 14px;\n",
    "border-radius: 20px;\n",
    "padding: 12px;\n",
    "border: 4px solid darkgreen\n",
    "text-align: left;\">\n",
    "\n",
    "<span style = \"color:black; font-size: 16px;\n",
    "\">🎭 Insight 5: Most Common Genres<br><br>\n",
    "</span>\n",
    "\n",
    "<span style = \"color:white; font-size: 14px;\n",
    "\"><ul>Dramas, Comedies, and Documentaries top the list.</ul>\n",
    "  <ul>Other popular genres: Action, International, and Kids content. </ul></span>\n",
    "<br><br>\n",
    "\n",
    "<span style = \"color:black; font-size: 14px;\n",
    "\">💡 Business Moves:<br><br>\n",
    "</span>\n",
    "\n",
    "<span style = \"color:white; font-size: 14px;\n",
    "\"><ul>Strong drama and comedy presence means Netflix should continue investing in original series in these genres.</ul>\n",
    "  <ul>Consider increasing interactive content in top genres to boost engagement.</ul></span>\n",
    "   \n",
    "<br>\n",
    "\n",
    "</h1>\n",
    "'''\n",
    "\n",
    "display(HTML(html_code))"
   ]
  },
  {
   "cell_type": "code",
   "execution_count": 164,
   "id": "48a29c1c-d850-474d-b32a-e0b17e9b447b",
   "metadata": {},
   "outputs": [
    {
     "data": {
      "text/html": [
       "\n",
       "<h1 style = \"background-color: black;\n",
       "color:white; font-size: 20px;\n",
       "border-radius: 20px;\n",
       "padding: 16px;\n",
       "text-align: left;\">\n",
       "\n",
       " \n",
       "<span style = \"color: red;\">6. a) Distribution of Movie Duration (in Minutes)\n",
       "</span>\n",
       "</h1>\n"
      ],
      "text/plain": [
       "<IPython.core.display.HTML object>"
      ]
     },
     "metadata": {},
     "output_type": "display_data"
    }
   ],
   "source": [
    "from IPython.display import HTML, display\n",
    "\n",
    "html_code = '''\n",
    "<h1 style = \"background-color: black;\n",
    "color:white; font-size: 20px;\n",
    "border-radius: 20px;\n",
    "padding: 16px;\n",
    "text-align: left;\">\n",
    "\n",
    " \n",
    "<span style = \"color: red;\">6. a) Distribution of Movie Duration (in Minutes)\n",
    "</span>\n",
    "</h1>\n",
    "'''\n",
    "\n",
    "display(HTML(html_code))"
   ]
  },
  {
   "cell_type": "code",
   "execution_count": 91,
   "id": "e9fb94fc-fd4a-4463-b905-7d8428494628",
   "metadata": {},
   "outputs": [
    {
     "data": {
      "image/png": "[encoded data removed]",
      "text/plain": [
       "<Figure size 1000x500 with 1 Axes>"
      ]
     },
     "metadata": {},
     "output_type": "display_data"
    }
   ],
   "source": [
    "plt.figure(figsize=(10, 5))\n",
    "sns.histplot(data=df[df['type']=='Movie'], x='duration_int', bins=30, color='skyblue', kde=True)\n",
    "plt.title(\"Distribution of Movie Duration (in Minutes)\")\n",
    "plt.xlabel('Duration(in Minutes)')\n",
    "plt.ylabel('Number of Movies')\n",
    "plt.tight_layout()\n",
    "plt.show()"
   ]
  },
  {
   "cell_type": "code",
   "execution_count": 167,
   "id": "558f4327-a1e1-4e19-8f31-cd1fd0fa58a4",
   "metadata": {},
   "outputs": [
    {
     "data": {
      "text/html": [
       "\n",
       "<h1 style = \"background-color: grey; font-size: 14px;\n",
       "border-radius: 20px;\n",
       "padding: 12px;\n",
       "border: 4px solid darkgreen\n",
       "text-align: left;\">\n",
       "\n",
       "<span style = \"color:black; font-size: 16px;\n",
       "\">⏱️ Insight 6. a): Movie Duration Distribution<br><br>\n",
       "</span>\n",
       "\n",
       "<span style = \"color:white; font-size: 14px;\n",
       "\"><ul>Most movies are clustered between 80–100 minutes.</ul>\n",
       "  <ul>Very few outliers go below 60 or above 120 minutes.</ul></span>\n",
       "<br><br>\n",
       "\n",
       "<span style = \"color:black; font-size: 14px;\n",
       "\">💡 Strategic Insights:<br><br>\n",
       "</span>\n",
       "\n",
       "<span style = \"color:white; font-size: 14px;\n",
       "\"><ul>This sweet spot aligns with standard feature-length films.</ul>\n",
       "  <ul>Shorter films (~60 min) could target mobile-first or regional audiences with lower attention spans or data access.</ul></span>\n",
       "   \n",
       "<br>\n",
       "\n",
       "</h1>\n"
      ],
      "text/plain": [
       "<IPython.core.display.HTML object>"
      ]
     },
     "metadata": {},
     "output_type": "display_data"
    }
   ],
   "source": [
    "from IPython.display import HTML, display\n",
    "\n",
    "html_code = '''\n",
    "<h1 style = \"background-color: grey; font-size: 14px;\n",
    "border-radius: 20px;\n",
    "padding: 12px;\n",
    "border: 4px solid darkgreen\n",
    "text-align: left;\">\n",
    "\n",
    "<span style = \"color:black; font-size: 16px;\n",
    "\">⏱️ Insight 6. a): Movie Duration Distribution<br><br>\n",
    "</span>\n",
    "\n",
    "<span style = \"color:white; font-size: 14px;\n",
    "\"><ul>Most movies are clustered between 80–100 minutes.</ul>\n",
    "  <ul>Very few outliers go below 60 or above 120 minutes.</ul></span>\n",
    "<br><br>\n",
    "\n",
    "<span style = \"color:black; font-size: 14px;\n",
    "\">💡 Strategic Insights:<br><br>\n",
    "</span>\n",
    "\n",
    "<span style = \"color:white; font-size: 14px;\n",
    "\"><ul>This sweet spot aligns with standard feature-length films.</ul>\n",
    "  <ul>Shorter films (~60 min) could target mobile-first or regional audiences with lower attention spans or data access.</ul></span>\n",
    "   \n",
    "<br>\n",
    "\n",
    "</h1>\n",
    "'''\n",
    "\n",
    "display(HTML(html_code))"
   ]
  },
  {
   "cell_type": "code",
   "execution_count": 169,
   "id": "008ce05a-0190-4dec-aff9-187e3cdd7acb",
   "metadata": {},
   "outputs": [
    {
     "data": {
      "text/html": [
       "\n",
       "<h1 style = \"background-color: black;\n",
       "color:white; font-size: 20px;\n",
       "border-radius: 20px;\n",
       "padding: 16px;\n",
       "text-align: left;\">\n",
       "\n",
       " \n",
       "<span style = \"color: red;\">6. b) Distribution of TV Show Duration (by Seasons)\n",
       "</span>\n",
       "</h1>\n"
      ],
      "text/plain": [
       "<IPython.core.display.HTML object>"
      ]
     },
     "metadata": {},
     "output_type": "display_data"
    }
   ],
   "source": [
    "from IPython.display import HTML, display\n",
    "\n",
    "html_code = '''\n",
    "<h1 style = \"background-color: black;\n",
    "color:white; font-size: 20px;\n",
    "border-radius: 20px;\n",
    "padding: 16px;\n",
    "text-align: left;\">\n",
    "\n",
    " \n",
    "<span style = \"color: red;\">6. b) Distribution of TV Show Duration (by Seasons)\n",
    "</span>\n",
    "</h1>\n",
    "'''\n",
    "\n",
    "display(HTML(html_code))"
   ]
  },
  {
   "cell_type": "code",
   "execution_count": 170,
   "id": "b051bc55-bb31-4b11-8ccc-f202271a836c",
   "metadata": {},
   "outputs": [],
   "source": [
    "tv_shows = df[(df['type'] == 'TV Show') & (df['duration_type'].str.contains('Season', na=False))]"
   ]
  },
  {
   "cell_type": "code",
   "execution_count": 171,
   "id": "a607e23e-982f-4bb4-93b0-1cf6813d9def",
   "metadata": {},
   "outputs": [
    {
     "data": {
      "image/png": "[encoded data removed]",
      "text/plain": [
       "<Figure size 1000x500 with 1 Axes>"
      ]
     },
     "metadata": {},
     "output_type": "display_data"
    }
   ],
   "source": [
    "plt.figure(figsize=(10, 5))\n",
    "sns.countplot(x='duration_int', data=tv_shows, palette='coolwarm')\n",
    "plt.title(\"Distribution of TV Show Duration (by Seasons)\")\n",
    "plt.xlabel('Number of Seasons')\n",
    "plt.ylabel('Count of TV Shows')\n",
    "plt.tight_layout()\n",
    "plt.show()"
   ]
  },
  {
   "cell_type": "code",
   "execution_count": 168,
   "id": "d76f4524-d0a6-4373-b438-71f9dceafa5b",
   "metadata": {},
   "outputs": [
    {
     "data": {
      "text/html": [
       "\n",
       "<h1 style = \"background-color: grey; font-size: 14px;\n",
       "border-radius: 20px;\n",
       "padding: 12px;\n",
       "border: 4px solid darkgreen\n",
       "text-align: left;\">\n",
       "\n",
       "<span style = \"color:black; font-size: 16px;\n",
       "\">📺 Insight 6. b): TV Show Season Distribution <br><br>\n",
       "</span>\n",
       "\n",
       "<span style = \"color:white; font-size: 14px;\n",
       "\"><ul>Majority of TV Shows have 1–2 seasons.</ul>\n",
       "  <ul>Shows with 3+ seasons are significantly fewer, possibly indicating selective continuation.</ul></span>\n",
       "<br><br>\n",
       "\n",
       "<span style = \"color:black; font-size: 14px;\n",
       "\">💡 Business Recommendations:<br><br>\n",
       "</span>\n",
       "\n",
       "<span style = \"color:white; font-size: 14px;\n",
       "\"><ul>Netflix could analyze which 1-season shows had high engagement and consider renewals.</ul>\n",
       "  <ul>Consider shorter seasons (mini-series) as a strategy to test new genres or formats.</ul></span>\n",
       "   \n",
       "<br>\n",
       "\n",
       "</h1>\n"
      ],
      "text/plain": [
       "<IPython.core.display.HTML object>"
      ]
     },
     "metadata": {},
     "output_type": "display_data"
    }
   ],
   "source": [
    "from IPython.display import HTML, display\n",
    "\n",
    "html_code = '''\n",
    "<h1 style = \"background-color: grey; font-size: 14px;\n",
    "border-radius: 20px;\n",
    "padding: 12px;\n",
    "border: 4px solid darkgreen\n",
    "text-align: left;\">\n",
    "\n",
    "<span style = \"color:black; font-size: 16px;\n",
    "\">📺 Insight 6. b): TV Show Season Distribution <br><br>\n",
    "</span>\n",
    "\n",
    "<span style = \"color:white; font-size: 14px;\n",
    "\"><ul>Majority of TV Shows have 1–2 seasons.</ul>\n",
    "  <ul>Shows with 3+ seasons are significantly fewer, possibly indicating selective continuation.</ul></span>\n",
    "<br><br>\n",
    "\n",
    "<span style = \"color:black; font-size: 14px;\n",
    "\">💡 Business Recommendations:<br><br>\n",
    "</span>\n",
    "\n",
    "<span style = \"color:white; font-size: 14px;\n",
    "\"><ul>Netflix could analyze which 1-season shows had high engagement and consider renewals.</ul>\n",
    "  <ul>Consider shorter seasons (mini-series) as a strategy to test new genres or formats.</ul></span>\n",
    "   \n",
    "<br>\n",
    "\n",
    "</h1>\n",
    "'''\n",
    "\n",
    "display(HTML(html_code))"
   ]
  },
  {
   "cell_type": "code",
   "execution_count": 173,
   "id": "a00f9d91-05c8-4ed6-9f87-64bb0f94e36d",
   "metadata": {},
   "outputs": [
    {
     "data": {
      "text/html": [
       "\n",
       "<h1 style = \"background-color: black;\n",
       "color:white; font-size: 30px;\n",
       "border-radius: 20px;\n",
       "padding: 16px;\n",
       "text-align: center;\">\n",
       "\n",
       " \n",
       "<span style = \"color: red;\">Netflix Dataset: Business Insights Summary\n",
       "</span>\n",
       "</h1>\n"
      ],
      "text/plain": [
       "<IPython.core.display.HTML object>"
      ]
     },
     "metadata": {},
     "output_type": "display_data"
    }
   ],
   "source": [
    "from IPython.display import HTML, display\n",
    "\n",
    "html_code = '''\n",
    "<h1 style = \"background-color: black;\n",
    "color:white; font-size: 30px;\n",
    "border-radius: 20px;\n",
    "padding: 16px;\n",
    "text-align: center;\">\n",
    "\n",
    " \n",
    "<span style = \"color: red;\">Netflix Dataset: Business Insights Summary\n",
    "</span>\n",
    "</h1>\n",
    "'''\n",
    "\n",
    "display(HTML(html_code))"
   ]
  },
  {
   "cell_type": "code",
   "execution_count": 183,
   "id": "7744b6b9-6821-4f87-918f-9ea4a7022616",
   "metadata": {},
   "outputs": [
    {
     "data": {
      "text/html": [
       "\n",
       "<h1 style = \"background-color: grey; font-size: 14px;\n",
       "border-radius: 20px;\n",
       "padding: 12px;\n",
       "border: 4px solid darkgreen\n",
       "text-align: left;\">\n",
       "\n",
       "<span style = \"color:black; font-size: 16px;\n",
       "\">1. 🎬 Content Mix Strategy<br><br>\n",
       "</span>\n",
       "\n",
       "<span style = \"color:white; font-size: 14px;\n",
       "\"><ul>- Movies dominate the content library over TV Shows.</ul>\n",
       "  <ul>- TV Shows, however, promote longer user engagement—Netflix should consider increasing high-quality series with binge-watch potential.</ul></span>\n",
       "<br><br>\n",
       "\n",
       "<span style = \"color:black; font-size: 16px;\n",
       "\">2. 🌍 Country of Origin<br><br>\n",
       "</span>\n",
       "\n",
       "<span style = \"color:white; font-size: 14px;\n",
       "\"><ul>- USA, India, and the UK are top content producers.</ul>\n",
       "  <ul>- Strong representation from non-English markets—Netflix should:<br><br>\n",
       "      <ul>--> Increase regional partnerships.</ul><br>\n",
       "      <ul>--> Improve localization (dubbing, subtitles, culturally relevant themes). </ul>\n",
       "</ul></span>\n",
       "<br><br>\n",
       "\n",
       "<span style = \"color:black; font-size: 16px;\n",
       "\">3. 📈 Growth Trend <br><br>\n",
       "</span>\n",
       "\n",
       "<span style = \"color:white; font-size: 14px;\n",
       "\"><ul>- Sharp growth in new titles from 2016–2019.</ul>\n",
       "  <ul>- COVID-19 dip in 2020–2021 suggests production sensitivity.</ul>\n",
       "  <ul>--> Recommendation: Diversify production hubs globally to mitigate regional risks.</ul></span>\n",
       "<br><br>\n",
       "\n",
       "<span style = \"color:black; font-size: 16px;\n",
       "\">4. 🔞 Audience Targeting <br><br>\n",
       "</span>\n",
       "\n",
       "<span style = \"color:white; font-size: 14px;\n",
       "\"><ul>- Majority of content is TV-MA (mature audiences).</ul>\n",
       "  <ul>- Gap in family-friendly content (G, PG).</ul>\n",
       "  <ul>- Opportunity to broaden audience base by boosting kid-safe and family genres.</ul></span>\n",
       "<br><br>\n",
       "\n",
       "<span style = \"color:black; font-size: 16px;\n",
       "\">5. 🎭 Popular Genres <br><br>\n",
       "</span>\n",
       "\n",
       "<span style = \"color:white; font-size: 14px;\n",
       "\"><ul>- Dramas, Comedies, Documentaries dominate.</ul>\n",
       "  <ul>- Heavy user demand for emotionally engaging, informative content.</ul>\n",
       "  <ul>--> Suggestion: Invest in genre-blending content (e.g., docudramas, dark comedies).</ul></span>\n",
       "<br><br>\n",
       "\n",
       "<span style = \"color:black; font-size: 16px;\n",
       "\">6. ⏱️ Duration Preferences <br><br>\n",
       "</span>\n",
       "\n",
       "<span style = \"color:white; font-size: 14px;\n",
       "\"><ul>- Most movies last 80–100 minutes—aligns with standard attention span.</ul>\n",
       "  <ul>- TV Shows mostly have 1–2 seasons—test short formats or limited series.</ul>\n",
       "  <ul>- Netflix should track performance metrics before greenlighting multi-season commitments.</ul></span>\n",
       "<br><br>\n",
       "\n",
       "<span style = \"color:black; font-size: 16px;\n",
       "\">7. 📅 Release Trends <br><br>\n",
       "</span>\n",
       "\n",
       "<span style = \"color:white; font-size: 14px;\n",
       "\"><ul>- Highest content release years: 2018–2019.</ul>\n",
       "  <ul>- Monitoring release pacing helps optimize marketing spend and audience fatigue.</ul></span>\n",
       "<br><br>\n",
       "\n",
       "<span style = \"color:black; font-size: 16px;\n",
       "\">✅ Strategic Recommendations <br><br>\n",
       "</span>\n",
       "   \n",
       "<br>\n",
       "\n",
       "<table style=\"width:100%; border-collapse: collapse; font-family: Arial, sans-serif; text-align: center;\">\n",
       "  <thead>\n",
       "    <tr style=\"background-color: #b71c1c; color: white;\">\n",
       "      <th style=\"padding: 10px; border: 1px solid #999; text-align: center\">📌 Area</th>\n",
       "      <th style=\"padding: 10px; border: 1px solid #999; text-align: center\">✅ Actionable Strategy</th>\n",
       "    </tr>\n",
       "  </thead>\n",
       "  <tbody>\n",
       "    <tr style=\"background-color: #f5f5f5;\">\n",
       "      <td style=\"padding: 10px; border: 1px solid #999; text-align: center\">📺 Content Strategy</td>\n",
       "      <td style=\"padding: 10px; border: 1px solid #999; text-align: center\">Boost TV show renewals, especially 1-season hits</td>\n",
       "    </tr>\n",
       "    <tr style=\"background-color: #e0e0e0;\">\n",
       "      <td style=\"padding: 10px; border: 1px solid #999; text-align: center\">🌐 Localization</td>\n",
       "      <td style=\"padding: 10px; border: 1px solid #999; text-align: center\">Expand regional content, translations, and UI localization</td>\n",
       "    </tr>\n",
       "    <tr style=\"background-color: #f5f5f5;\">\n",
       "      <td style=\"padding: 10px; border: 1px solid #999; text-align: center\">🎯 Audience Expansion</td>\n",
       "      <td style=\"padding: 10px; border: 1px solid #999; text-align: center\">Add more PG/family/kids content</td>\n",
       "    </tr>\n",
       "    <tr style=\"background-color: #e0e0e0;\">\n",
       "      <td style=\"padding: 10px; border: 1px solid #999; text-align: center\">⌛ Format Testing</td>\n",
       "      <td style=\"padding: 10px; border: 1px solid #999; text-align: center\">Explore interactive content and short-form shows</td>\n",
       "    </tr>\n",
       "    <tr style=\"background-color: #f5f5f5;\">\n",
       "      <td style=\"padding: 10px; border: 1px solid #999; text-align: center\">📉 Risk Management</td>\n",
       "      <td style=\"padding: 10px; border: 1px solid #999; text-align: center\">Build production resilience across countries</td>\n",
       "    </tr>\n",
       "  </tbody>\n",
       "</table>\n",
       "\n",
       "\n",
       "</h1>\n"
      ],
      "text/plain": [
       "<IPython.core.display.HTML object>"
      ]
     },
     "metadata": {},
     "output_type": "display_data"
    }
   ],
   "source": [
    "from IPython.display import HTML, display\n",
    "\n",
    "html_code = '''\n",
    "<h1 style = \"background-color: grey; font-size: 14px;\n",
    "border-radius: 20px;\n",
    "padding: 12px;\n",
    "border: 4px solid darkgreen\n",
    "text-align: left;\">\n",
    "\n",
    "<span style = \"color:black; font-size: 16px;\n",
    "\">1. 🎬 Content Mix Strategy<br><br>\n",
    "</span>\n",
    "\n",
    "<span style = \"color:white; font-size: 14px;\n",
    "\"><ul>- Movies dominate the content library over TV Shows.</ul>\n",
    "  <ul>- TV Shows, however, promote longer user engagement—Netflix should consider increasing high-quality series with binge-watch potential.</ul></span>\n",
    "<br><br>\n",
    "\n",
    "<span style = \"color:black; font-size: 16px;\n",
    "\">2. 🌍 Country of Origin<br><br>\n",
    "</span>\n",
    "\n",
    "<span style = \"color:white; font-size: 14px;\n",
    "\"><ul>- USA, India, and the UK are top content producers.</ul>\n",
    "  <ul>- Strong representation from non-English markets—Netflix should:<br><br>\n",
    "      <ul>--> Increase regional partnerships.</ul><br>\n",
    "      <ul>--> Improve localization (dubbing, subtitles, culturally relevant themes). </ul>\n",
    "</ul></span>\n",
    "<br><br>\n",
    "\n",
    "<span style = \"color:black; font-size: 16px;\n",
    "\">3. 📈 Growth Trend <br><br>\n",
    "</span>\n",
    "\n",
    "<span style = \"color:white; font-size: 14px;\n",
    "\"><ul>- Sharp growth in new titles from 2016–2019.</ul>\n",
    "  <ul>- COVID-19 dip in 2020–2021 suggests production sensitivity.</ul>\n",
    "  <ul>--> Recommendation: Diversify production hubs globally to mitigate regional risks.</ul></span>\n",
    "<br><br>\n",
    "\n",
    "<span style = \"color:black; font-size: 16px;\n",
    "\">4. 🔞 Audience Targeting <br><br>\n",
    "</span>\n",
    "\n",
    "<span style = \"color:white; font-size: 14px;\n",
    "\"><ul>- Majority of content is TV-MA (mature audiences).</ul>\n",
    "  <ul>- Gap in family-friendly content (G, PG).</ul>\n",
    "  <ul>- Opportunity to broaden audience base by boosting kid-safe and family genres.</ul></span>\n",
    "<br><br>\n",
    "\n",
    "<span style = \"color:black; font-size: 16px;\n",
    "\">5. 🎭 Popular Genres <br><br>\n",
    "</span>\n",
    "\n",
    "<span style = \"color:white; font-size: 14px;\n",
    "\"><ul>- Dramas, Comedies, Documentaries dominate.</ul>\n",
    "  <ul>- Heavy user demand for emotionally engaging, informative content.</ul>\n",
    "  <ul>--> Suggestion: Invest in genre-blending content (e.g., docudramas, dark comedies).</ul></span>\n",
    "<br><br>\n",
    "\n",
    "<span style = \"color:black; font-size: 16px;\n",
    "\">6. ⏱️ Duration Preferences <br><br>\n",
    "</span>\n",
    "\n",
    "<span style = \"color:white; font-size: 14px;\n",
    "\"><ul>- Most movies last 80–100 minutes—aligns with standard attention span.</ul>\n",
    "  <ul>- TV Shows mostly have 1–2 seasons—test short formats or limited series.</ul>\n",
    "  <ul>- Netflix should track performance metrics before greenlighting multi-season commitments.</ul></span>\n",
    "<br><br>\n",
    "\n",
    "<span style = \"color:black; font-size: 16px;\n",
    "\">7. 📅 Release Trends <br><br>\n",
    "</span>\n",
    "\n",
    "<span style = \"color:white; font-size: 14px;\n",
    "\"><ul>- Highest content release years: 2018–2019.</ul>\n",
    "  <ul>- Monitoring release pacing helps optimize marketing spend and audience fatigue.</ul></span>\n",
    "<br><br>\n",
    "\n",
    "<span style = \"color:black; font-size: 16px;\n",
    "\">✅ Strategic Recommendations <br><br>\n",
    "</span>\n",
    "   \n",
    "<br>\n",
    "\n",
    "<table style=\"width:100%; border-collapse: collapse; font-family: Arial, sans-serif; text-align: center;\">\n",
    "  <thead>\n",
    "    <tr style=\"background-color: #b71c1c; color: white;\">\n",
    "      <th style=\"padding: 10px; border: 1px solid #999; text-align: center\">📌 Area</th>\n",
    "      <th style=\"padding: 10px; border: 1px solid #999; text-align: center\">✅ Actionable Strategy</th>\n",
    "    </tr>\n",
    "  </thead>\n",
    "  <tbody>\n",
    "    <tr style=\"background-color: #f5f5f5;\">\n",
    "      <td style=\"padding: 10px; border: 1px solid #999; text-align: center\">📺 Content Strategy</td>\n",
    "      <td style=\"padding: 10px; border: 1px solid #999; text-align: center\">Boost TV show renewals, especially 1-season hits</td>\n",
    "    </tr>\n",
    "    <tr style=\"background-color: #e0e0e0;\">\n",
    "      <td style=\"padding: 10px; border: 1px solid #999; text-align: center\">🌐 Localization</td>\n",
    "      <td style=\"padding: 10px; border: 1px solid #999; text-align: center\">Expand regional content, translations, and UI localization</td>\n",
    "    </tr>\n",
    "    <tr style=\"background-color: #f5f5f5;\">\n",
    "      <td style=\"padding: 10px; border: 1px solid #999; text-align: center\">🎯 Audience Expansion</td>\n",
    "      <td style=\"padding: 10px; border: 1px solid #999; text-align: center\">Add more PG/family/kids content</td>\n",
    "    </tr>\n",
    "    <tr style=\"background-color: #e0e0e0;\">\n",
    "      <td style=\"padding: 10px; border: 1px solid #999; text-align: center\">⌛ Format Testing</td>\n",
    "      <td style=\"padding: 10px; border: 1px solid #999; text-align: center\">Explore interactive content and short-form shows</td>\n",
    "    </tr>\n",
    "    <tr style=\"background-color: #f5f5f5;\">\n",
    "      <td style=\"padding: 10px; border: 1px solid #999; text-align: center\">📉 Risk Management</td>\n",
    "      <td style=\"padding: 10px; border: 1px solid #999; text-align: center\">Build production resilience across countries</td>\n",
    "    </tr>\n",
    "  </tbody>\n",
    "</table>\n",
    "\n",
    "\n",
    "</h1>\n",
    "'''\n",
    "\n",
    "display(HTML(html_code))"
   ]
  },
  {
   "cell_type": "code",
   "execution_count": null,
   "id": "29cd3b5b-de2c-4fc4-a54a-3999b8ce9bc8",
   "metadata": {},
   "outputs": [],
   "source": []
  }
 ],
 "metadata": {
  "kernelspec": {
   "display_name": "Python 3 (ipykernel)",
   "language": "python",
   "name": "python3"
  },
  "language_info": {
   "codemirror_mode": {
    "name": "ipython",
    "version": 3
   },
   "file_extension": ".py",
   "mimetype": "text/x-python",
   "name": "python",
   "nbconvert_exporter": "python",
   "pygments_lexer": "ipython3",
   "version": "3.12.7"
  }
 },
 "nbformat": 4,
 "nbformat_minor": 5
}
